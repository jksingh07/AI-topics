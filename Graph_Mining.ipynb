{
  "nbformat": 4,
  "nbformat_minor": 0,
  "metadata": {
    "colab": {
      "provenance": []
    },
    "kernelspec": {
      "name": "python3",
      "display_name": "Python 3"
    },
    "language_info": {
      "name": "python"
    }
  },
  "cells": [
    {
      "cell_type": "code",
      "execution_count": 2,
      "metadata": {
        "id": "XfZyhx48hWnG"
      },
      "outputs": [],
      "source": [
        "import networkx as ntx"
      ]
    },
    {
      "cell_type": "code",
      "source": [
        "G = ntx.Graph()"
      ],
      "metadata": {
        "id": "RgvFRfrChajE"
      },
      "execution_count": 3,
      "outputs": []
    },
    {
      "cell_type": "code",
      "source": [
        "G.add_nodes_from([1,2,3])"
      ],
      "metadata": {
        "id": "kEI5au9shmPC"
      },
      "execution_count": 4,
      "outputs": []
    },
    {
      "cell_type": "code",
      "source": [
        "G.add_node(5)"
      ],
      "metadata": {
        "id": "hH6Puvxbh87m"
      },
      "execution_count": 8,
      "outputs": []
    },
    {
      "cell_type": "code",
      "source": [
        "G.add_edge(1,2)"
      ],
      "metadata": {
        "id": "FOHoJFJLhpgX"
      },
      "execution_count": 5,
      "outputs": []
    },
    {
      "cell_type": "code",
      "source": [
        "G.add_edges_from([(1,3),(3,4), (4,5),(1,5)])"
      ],
      "metadata": {
        "id": "hgUrN53sh5ET"
      },
      "execution_count": 11,
      "outputs": []
    },
    {
      "cell_type": "code",
      "source": [
        "ntx.draw(G, with_labels=True)"
      ],
      "metadata": {
        "colab": {
          "base_uri": "https://localhost:8080/",
          "height": 319
        },
        "id": "cJP5eT3AiJOU",
        "outputId": "66f5bd92-d5c5-41c5-8809-632b014682f0"
      },
      "execution_count": 13,
      "outputs": [
        {
          "output_type": "display_data",
          "data": {
            "text/plain": [
              "<Figure size 432x288 with 1 Axes>"
            ],
            "image/png": "[encoded data removed]"
          },
          "metadata": {}
        }
      ]
    },
    {
      "cell_type": "code",
      "source": [
        "ntx.draw_networkx(G, node_size=400, node_color='red')"
      ],
      "metadata": {
        "colab": {
          "base_uri": "https://localhost:8080/",
          "height": 248
        },
        "id": "lgLcOK8ni0Va",
        "outputId": "4327a5f3-5684-4d0e-90b5-c9e9e98bdf31"
      },
      "execution_count": 15,
      "outputs": [
        {
          "output_type": "display_data",
          "data": {
            "text/plain": [
              "<Figure size 432x288 with 1 Axes>"
            ],
            "image/png": "[encoded data removed]"
          },
          "metadata": {}
        }
      ]
    },
    {
      "cell_type": "code",
      "source": [
        "G.number_of_edges()"
      ],
      "metadata": {
        "colab": {
          "base_uri": "https://localhost:8080/"
        },
        "id": "IQdahXEWizvH",
        "outputId": "b802cc7b-180e-47de-e500-8acfd487dac9"
      },
      "execution_count": 17,
      "outputs": [
        {
          "output_type": "execute_result",
          "data": {
            "text/plain": [
              "5"
            ]
          },
          "metadata": {},
          "execution_count": 17
        }
      ]
    },
    {
      "cell_type": "code",
      "source": [
        "G.number_of_nodes()"
      ],
      "metadata": {
        "colab": {
          "base_uri": "https://localhost:8080/"
        },
        "id": "vblFbEAWiqYc",
        "outputId": "10a494fc-2347-438a-8429-8b58e5438f94"
      },
      "execution_count": 18,
      "outputs": [
        {
          "output_type": "execute_result",
          "data": {
            "text/plain": [
              "5"
            ]
          },
          "metadata": {},
          "execution_count": 18
        }
      ]
    },
    {
      "cell_type": "code",
      "source": [
        "len(G)"
      ],
      "metadata": {
        "colab": {
          "base_uri": "https://localhost:8080/"
        },
        "id": "1cqNOfV2jhfw",
        "outputId": "d408cb17-3ee1-46fe-831f-b0403b034103"
      },
      "execution_count": 19,
      "outputs": [
        {
          "output_type": "execute_result",
          "data": {
            "text/plain": [
              "5"
            ]
          },
          "metadata": {},
          "execution_count": 19
        }
      ]
    },
    {
      "cell_type": "code",
      "source": [
        "print(G.size())"
      ],
      "metadata": {
        "colab": {
          "base_uri": "https://localhost:8080/"
        },
        "id": "wTT4xRotjjqV",
        "outputId": "0bbecc80-3ad2-4388-948f-d3f3192f9bdd"
      },
      "execution_count": 20,
      "outputs": [
        {
          "output_type": "stream",
          "name": "stdout",
          "text": [
            "5\n"
          ]
        }
      ]
    },
    {
      "cell_type": "code",
      "source": [
        "# check if node is present\n",
        "print(2 in G)\n",
        "#OR\n",
        "print(G.has_node(2))"
      ],
      "metadata": {
        "colab": {
          "base_uri": "https://localhost:8080/"
        },
        "id": "eubuFeP1jjlp",
        "outputId": "6923f6be-7b6f-404d-a198-b37959cfad1a"
      },
      "execution_count": 23,
      "outputs": [
        {
          "output_type": "stream",
          "name": "stdout",
          "text": [
            "True\n",
            "True\n"
          ]
        }
      ]
    },
    {
      "cell_type": "code",
      "source": [
        "# check the no of conections from the node\n",
        "G.degree(1)"
      ],
      "metadata": {
        "colab": {
          "base_uri": "https://localhost:8080/"
        },
        "id": "YCfwZCqHjjf7",
        "outputId": "873e2314-42d9-4ef8-ed39-d132dc0678c6"
      },
      "execution_count": 24,
      "outputs": [
        {
          "output_type": "execute_result",
          "data": {
            "text/plain": [
              "3"
            ]
          },
          "metadata": {},
          "execution_count": 24
        }
      ]
    },
    {
      "cell_type": "code",
      "source": [
        "G.degree([1,2,3])"
      ],
      "metadata": {
        "colab": {
          "base_uri": "https://localhost:8080/"
        },
        "id": "9PMstIfFjjdG",
        "outputId": "fae54268-0ae6-44ba-9a15-8cefc55722a3"
      },
      "execution_count": 25,
      "outputs": [
        {
          "output_type": "execute_result",
          "data": {
            "text/plain": [
              "DegreeView({1: 3, 2: 1, 3: 2})"
            ]
          },
          "metadata": {},
          "execution_count": 25
        }
      ]
    },
    {
      "cell_type": "code",
      "source": [
        "for i in G:\n",
        "  print(i, G.degree(i))"
      ],
      "metadata": {
        "colab": {
          "base_uri": "https://localhost:8080/"
        },
        "id": "nYFbtufqjjVQ",
        "outputId": "e593313a-c461-49b6-9cf8-65de8e98e769"
      },
      "execution_count": 27,
      "outputs": [
        {
          "output_type": "stream",
          "name": "stdout",
          "text": [
            "1 3\n",
            "2 1\n",
            "3 2\n",
            "4 2\n",
            "5 2\n"
          ]
        }
      ]
    },
    {
      "cell_type": "code",
      "source": [
        "# chreck neighbors \n",
        "# Adjacency matrix\n",
        "\n",
        "G.adj[1]"
      ],
      "metadata": {
        "colab": {
          "base_uri": "https://localhost:8080/"
        },
        "id": "WX5zgeyqjjTK",
        "outputId": "5d3684ee-6650-4e01-eeda-32e6e0b43393"
      },
      "execution_count": 29,
      "outputs": [
        {
          "output_type": "execute_result",
          "data": {
            "text/plain": [
              "AtlasView({2: {}, 3: {}, 5: {}})"
            ]
          },
          "metadata": {},
          "execution_count": 29
        }
      ]
    },
    {
      "cell_type": "code",
      "source": [
        "print(G.adj)"
      ],
      "metadata": {
        "colab": {
          "base_uri": "https://localhost:8080/"
        },
        "id": "5mwJUHJilEYe",
        "outputId": "2dfb6f42-d4a4-4bb7-d788-581732bceb7e"
      },
      "execution_count": 31,
      "outputs": [
        {
          "output_type": "stream",
          "name": "stdout",
          "text": [
            "{1: {2: {}, 3: {}, 5: {}}, 2: {1: {}}, 3: {1: {}, 4: {}}, 4: {3: {}, 5: {}}, 5: {4: {}, 1: {}}}\n"
          ]
        }
      ]
    },
    {
      "cell_type": "code",
      "source": [
        "# Make Adja"
      ],
      "metadata": {
        "id": "OFlYm8MfjjQF"
      },
      "execution_count": null,
      "outputs": []
    },
    {
      "cell_type": "code",
      "source": [
        "A = ntx.adjacency_matrix(G)"
      ],
      "metadata": {
        "id": "fWl79w3JlYzH"
      },
      "execution_count": 32,
      "outputs": []
    },
    {
      "cell_type": "code",
      "source": [
        "print(A)"
      ],
      "metadata": {
        "colab": {
          "base_uri": "https://localhost:8080/"
        },
        "id": "JUrms1v8lYwQ",
        "outputId": "59d5002a-c10c-48c1-beaf-29b1d66df8da"
      },
      "execution_count": 34,
      "outputs": [
        {
          "output_type": "stream",
          "name": "stdout",
          "text": [
            "  (0, 1)\t1\n",
            "  (0, 2)\t1\n",
            "  (0, 4)\t1\n",
            "  (1, 0)\t1\n",
            "  (2, 0)\t1\n",
            "  (2, 3)\t1\n",
            "  (3, 2)\t1\n",
            "  (3, 4)\t1\n",
            "  (4, 0)\t1\n",
            "  (4, 3)\t1\n"
          ]
        }
      ]
    },
    {
      "cell_type": "code",
      "source": [
        "# Matrix of connecting edges\n",
        "print(A.todense())"
      ],
      "metadata": {
        "colab": {
          "base_uri": "https://localhost:8080/"
        },
        "id": "A0L7Bi9qlYtr",
        "outputId": "1b65f38f-2043-44c0-c236-deba4dc82f87"
      },
      "execution_count": 35,
      "outputs": [
        {
          "output_type": "stream",
          "name": "stdout",
          "text": [
            "[[0 1 1 0 1]\n",
            " [1 0 0 0 0]\n",
            " [1 0 0 1 0]\n",
            " [0 0 1 0 1]\n",
            " [1 0 0 1 0]]\n"
          ]
        }
      ]
    },
    {
      "cell_type": "code",
      "source": [
        "G.remove_node(2)"
      ],
      "metadata": {
        "id": "MTSG5XdbmET-"
      },
      "execution_count": 36,
      "outputs": []
    },
    {
      "cell_type": "code",
      "source": [
        "ntx.draw_networkx(G)"
      ],
      "metadata": {
        "colab": {
          "base_uri": "https://localhost:8080/",
          "height": 248
        },
        "id": "SQs216nGmHfn",
        "outputId": "f4572bf3-eb66-47f5-d8e2-c66bf7bd40f7"
      },
      "execution_count": 38,
      "outputs": [
        {
          "output_type": "display_data",
          "data": {
            "text/plain": [
              "<Figure size 432x288 with 1 Axes>"
            ],
            "image/png": "[encoded data removed]"
          },
          "metadata": {}
        }
      ]
    },
    {
      "cell_type": "code",
      "source": [
        "G.remove_edge(4,5)"
      ],
      "metadata": {
        "id": "_pGUXgUMmOB0"
      },
      "execution_count": 39,
      "outputs": []
    },
    {
      "cell_type": "code",
      "source": [
        "ntx.draw_networkx(G)"
      ],
      "metadata": {
        "colab": {
          "base_uri": "https://localhost:8080/",
          "height": 248
        },
        "id": "A6O9CkQAmVS8",
        "outputId": "0e0995a7-8c40-450c-c041-92fc45c607df"
      },
      "execution_count": 40,
      "outputs": [
        {
          "output_type": "display_data",
          "data": {
            "text/plain": [
              "<Figure size 432x288 with 1 Axes>"
            ],
            "image/png": "[encoded data removed]"
          },
          "metadata": {}
        }
      ]
    },
    {
      "cell_type": "code",
      "source": [
        "C = G.copy()"
      ],
      "metadata": {
        "id": "HzWYNATPmXwN"
      },
      "execution_count": 41,
      "outputs": []
    },
    {
      "cell_type": "code",
      "source": [
        "ntx.draw_networkx(C)"
      ],
      "metadata": {
        "colab": {
          "base_uri": "https://localhost:8080/",
          "height": 248
        },
        "id": "w6ql5Ptima4y",
        "outputId": "83965392-f273-4628-e578-c90d7bda80e2"
      },
      "execution_count": 42,
      "outputs": [
        {
          "output_type": "display_data",
          "data": {
            "text/plain": [
              "<Figure size 432x288 with 1 Axes>"
            ],
            "image/png": "[encoded data removed]"
          },
          "metadata": {}
        }
      ]
    },
    {
      "cell_type": "code",
      "source": [
        "C.clear()"
      ],
      "metadata": {
        "id": "JDeWEiS3md2E"
      },
      "execution_count": 43,
      "outputs": []
    },
    {
      "cell_type": "code",
      "source": [
        "ntx.draw_networkx(C)"
      ],
      "metadata": {
        "colab": {
          "base_uri": "https://localhost:8080/",
          "height": 248
        },
        "id": "Lx41MPmYmgur",
        "outputId": "37bbff16-16ca-478a-a6ee-7e0269c5a985"
      },
      "execution_count": 44,
      "outputs": [
        {
          "output_type": "display_data",
          "data": {
            "text/plain": [
              "<Figure size 432x288 with 1 Axes>"
            ],
            "image/png": "[encoded data removed]"
          },
          "metadata": {}
        }
      ]
    },
    {
      "cell_type": "code",
      "source": [
        "ntx.draw_networkx(G)"
      ],
      "metadata": {
        "colab": {
          "base_uri": "https://localhost:8080/",
          "height": 248
        },
        "id": "YyHanLpSmjUl",
        "outputId": "ca7f86d0-c1e7-4a36-dde1-cec33d4faa81"
      },
      "execution_count": 45,
      "outputs": [
        {
          "output_type": "display_data",
          "data": {
            "text/plain": [
              "<Figure size 432x288 with 1 Axes>"
            ],
            "image/png": "[encoded data removed]"
          },
          "metadata": {}
        }
      ]
    },
    {
      "cell_type": "code",
      "source": [],
      "metadata": {
        "id": "qQYWWvZ8mmBe"
      },
      "execution_count": null,
      "outputs": []
    },
    {
      "cell_type": "code",
      "source": [
        "G = ntx.Graph()\n",
        "n=list('ABCDE')\n",
        "\n",
        "G.add_nodes_from(n)\n",
        "e = ['AB','CD', 'DE', 'AE']\n",
        "G.add_edges_from(e)"
      ],
      "metadata": {
        "id": "spGx_-iZml_J"
      },
      "execution_count": 46,
      "outputs": []
    },
    {
      "cell_type": "code",
      "source": [
        "\n",
        "ntx.draw_networkx(G)"
      ],
      "metadata": {
        "colab": {
          "base_uri": "https://localhost:8080/",
          "height": 248
        },
        "id": "1TZfgmbTml8y",
        "outputId": "3bd2f902-58bd-4db9-d939-b1ce53145539"
      },
      "execution_count": 47,
      "outputs": [
        {
          "output_type": "display_data",
          "data": {
            "text/plain": [
              "<Figure size 432x288 with 1 Axes>"
            ],
            "image/png": "[encoded data removed]"
          },
          "metadata": {}
        }
      ]
    },
    {
      "cell_type": "code",
      "source": [
        "S = G.subgraph(['A', 'B', 'C'])"
      ],
      "metadata": {
        "id": "Qp6XnT-Yml6L"
      },
      "execution_count": 48,
      "outputs": []
    },
    {
      "cell_type": "code",
      "source": [
        "ntx.draw_networkx(S)"
      ],
      "metadata": {
        "colab": {
          "base_uri": "https://localhost:8080/",
          "height": 248
        },
        "id": "UutKcfN1ml31",
        "outputId": "c4bd80a7-a196-460f-d12e-d87d8823931f"
      },
      "execution_count": 49,
      "outputs": [
        {
          "output_type": "display_data",
          "data": {
            "text/plain": [
              "<Figure size 432x288 with 1 Axes>"
            ],
            "image/png": "[encoded data removed]"
          },
          "metadata": {}
        }
      ]
    },
    {
      "cell_type": "code",
      "source": [
        "S1 = G.edge_subgraph([('A','B'), ('D','E')])"
      ],
      "metadata": {
        "id": "v-KvsFZ9oFcq"
      },
      "execution_count": 53,
      "outputs": []
    },
    {
      "cell_type": "code",
      "source": [
        "ntx.draw_networkx(S1)"
      ],
      "metadata": {
        "colab": {
          "base_uri": "https://localhost:8080/",
          "height": 248
        },
        "id": "J4FD9ZfeoOus",
        "outputId": "ddce6637-9ee6-4e9c-bf97-b3bf30b691c5"
      },
      "execution_count": 54,
      "outputs": [
        {
          "output_type": "display_data",
          "data": {
            "text/plain": [
              "<Figure size 432x288 with 1 Axes>"
            ],
            "image/png": "[encoded data removed]"
          },
          "metadata": {}
        }
      ]
    },
    {
      "cell_type": "code",
      "source": [
        "G.add_weighted_edges_from([('A','B',2)])"
      ],
      "metadata": {
        "id": "fGvxMxJ7ml0u"
      },
      "execution_count": 51,
      "outputs": []
    },
    {
      "cell_type": "code",
      "source": [
        "ntx.draw_networkx(G)"
      ],
      "metadata": {
        "colab": {
          "base_uri": "https://localhost:8080/",
          "height": 248
        },
        "id": "lBlUJLN-mlsp",
        "outputId": "26affbe5-1e3d-4a90-bd7d-147e61946d86"
      },
      "execution_count": 52,
      "outputs": [
        {
          "output_type": "display_data",
          "data": {
            "text/plain": [
              "<Figure size 432x288 with 1 Axes>"
            ],
            "image/png": "[encoded data removed]"
          },
          "metadata": {}
        }
      ]
    },
    {
      "cell_type": "code",
      "source": [
        "# Add information to the nodes"
      ],
      "metadata": {
        "id": "bXLUvF3BoSn5"
      },
      "execution_count": null,
      "outputs": []
    },
    {
      "cell_type": "code",
      "source": [
        "G.add_node('H', time='2pm')"
      ],
      "metadata": {
        "id": "7zSWOhJIoSlj"
      },
      "execution_count": 55,
      "outputs": []
    },
    {
      "cell_type": "code",
      "source": [
        "G.nodes(data=True) # set data to true to show info of nodes"
      ],
      "metadata": {
        "colab": {
          "base_uri": "https://localhost:8080/"
        },
        "id": "b4GcscfUoSi7",
        "outputId": "60112f8d-5b2c-4ba9-935e-32724e67f8a8"
      },
      "execution_count": 56,
      "outputs": [
        {
          "output_type": "execute_result",
          "data": {
            "text/plain": [
              "NodeDataView({'A': {}, 'B': {}, 'C': {}, 'D': {}, 'E': {}, 'H': {'time': '2pm'}})"
            ]
          },
          "metadata": {},
          "execution_count": 56
        }
      ]
    },
    {
      "cell_type": "code",
      "source": [
        "G.add_node('J', weight=40)"
      ],
      "metadata": {
        "id": "g5XB7kykoSgl"
      },
      "execution_count": 57,
      "outputs": []
    },
    {
      "cell_type": "code",
      "source": [
        "G.nodes(data=True)"
      ],
      "metadata": {
        "colab": {
          "base_uri": "https://localhost:8080/"
        },
        "id": "kYjgtJkNoSeQ",
        "outputId": "6215a714-2b1f-46d9-ccf2-a2adfcb9bafe"
      },
      "execution_count": 58,
      "outputs": [
        {
          "output_type": "execute_result",
          "data": {
            "text/plain": [
              "NodeDataView({'A': {}, 'B': {}, 'C': {}, 'D': {}, 'E': {}, 'H': {'time': '2pm'}, 'J': {'weight': 40}})"
            ]
          },
          "metadata": {},
          "execution_count": 58
        }
      ]
    },
    {
      "cell_type": "code",
      "source": [
        "G.nodes(data='time', default='12am')"
      ],
      "metadata": {
        "colab": {
          "base_uri": "https://localhost:8080/"
        },
        "id": "InYbxOBnoSb5",
        "outputId": "f7eadecd-76b1-4543-cb05-f230f3d540ba"
      },
      "execution_count": 59,
      "outputs": [
        {
          "output_type": "execute_result",
          "data": {
            "text/plain": [
              "NodeDataView({'A': '12am', 'B': '12am', 'C': '12am', 'D': '12am', 'E': '12am', 'H': '2pm', 'J': '12am'}, data='time')"
            ]
          },
          "metadata": {},
          "execution_count": 59
        }
      ]
    },
    {
      "cell_type": "code",
      "source": [
        "G.nodes(data='weight', default='0')"
      ],
      "metadata": {
        "colab": {
          "base_uri": "https://localhost:8080/"
        },
        "id": "RTziWasPoSYw",
        "outputId": "cb3a658e-682e-43e8-a80e-e94135ee5e96"
      },
      "execution_count": 60,
      "outputs": [
        {
          "output_type": "execute_result",
          "data": {
            "text/plain": [
              "NodeDataView({'A': '0', 'B': '0', 'C': '0', 'D': '0', 'E': '0', 'H': '0', 'J': 40}, data='weight')"
            ]
          },
          "metadata": {},
          "execution_count": 60
        }
      ]
    },
    {
      "cell_type": "code",
      "source": [
        "G.edges['A', 'B']['weight'] = 40"
      ],
      "metadata": {
        "id": "Y8l7PaY7oSWM"
      },
      "execution_count": 61,
      "outputs": []
    },
    {
      "cell_type": "code",
      "source": [
        "G.edges(data=True)"
      ],
      "metadata": {
        "colab": {
          "base_uri": "https://localhost:8080/"
        },
        "id": "bthfUMxwpWsX",
        "outputId": "b53d0d4c-2ebe-4407-e712-d7526dd139be"
      },
      "execution_count": 63,
      "outputs": [
        {
          "output_type": "execute_result",
          "data": {
            "text/plain": [
              "EdgeDataView([('A', 'B', {'weight': 40}), ('A', 'E', {}), ('C', 'D', {}), ('D', 'E', {})])"
            ]
          },
          "metadata": {},
          "execution_count": 63
        }
      ]
    },
    {
      "cell_type": "markdown",
      "source": [
        "## Directed Graph"
      ],
      "metadata": {
        "id": "STgpd1pXpvuK"
      }
    },
    {
      "cell_type": "code",
      "source": [
        "import networkx as nx"
      ],
      "metadata": {
        "id": "OQdWfjLXpy7H"
      },
      "execution_count": 64,
      "outputs": []
    },
    {
      "cell_type": "code",
      "source": [
        "DG = nx.DiGraph()"
      ],
      "metadata": {
        "id": "4XAqmqYLpWqA"
      },
      "execution_count": 65,
      "outputs": []
    },
    {
      "cell_type": "code",
      "source": [
        "DG = nx.DiGraph({1:[2,3], 2:[4,5], 3:[5]})"
      ],
      "metadata": {
        "id": "SKHgB0SLpWno"
      },
      "execution_count": 66,
      "outputs": []
    },
    {
      "cell_type": "code",
      "source": [
        "nx.draw_networkx(DG)"
      ],
      "metadata": {
        "colab": {
          "base_uri": "https://localhost:8080/",
          "height": 248
        },
        "id": "WC56xfr3pWlj",
        "outputId": "8379acef-cc8d-4582-aec8-4ca3c6b0352d"
      },
      "execution_count": 67,
      "outputs": [
        {
          "output_type": "display_data",
          "data": {
            "text/plain": [
              "<Figure size 432x288 with 1 Axes>"
            ],
            "image/png": "[encoded data removed]"
          },
          "metadata": {}
        }
      ]
    },
    {
      "cell_type": "code",
      "source": [],
      "metadata": {
        "id": "Q2VdFIaupWi9"
      },
      "execution_count": null,
      "outputs": []
    },
    {
      "cell_type": "code",
      "source": [],
      "metadata": {
        "id": "ld18fP6KpWg5"
      },
      "execution_count": null,
      "outputs": []
    }
  ]
}