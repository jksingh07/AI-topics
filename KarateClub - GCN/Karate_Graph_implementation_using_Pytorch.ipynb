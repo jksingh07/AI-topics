{
 "cells": [
  {
   "cell_type": "code",
   "execution_count": 1,
   "metadata": {
    "colab": {
     "base_uri": "https://localhost:8080/"
    },
    "id": "cucxk5XkFJuN",
    "outputId": "73170372-d1da-43a8-bf66-816f25c93db9"
   },
   "outputs": [
    {
     "name": "stdout",
     "output_type": "stream",
     "text": [
      "Collecting dgl\n",
      "  Downloading dgl-1.0.1-cp39-cp39-macosx_10_10_x86_64.whl (4.0 MB)\n",
      "\u001b[K     |████████████████████████████████| 4.0 MB 6.5 MB/s eta 0:00:01\n",
      "\u001b[?25hRequirement already satisfied: scipy>=1.1.0 in /Users/jaskaransingh/opt/anaconda3/lib/python3.9/site-packages (from dgl) (1.7.3)\n",
      "Collecting networkx>=2.1\n",
      "  Downloading networkx-3.0-py3-none-any.whl (2.0 MB)\n",
      "\u001b[K     |████████████████████████████████| 2.0 MB 68.5 MB/s eta 0:00:01\n",
      "\u001b[?25hRequirement already satisfied: requests>=2.19.0 in /Users/jaskaransingh/opt/anaconda3/lib/python3.9/site-packages (from dgl) (2.27.1)\n",
      "Requirement already satisfied: numpy>=1.14.0 in /Users/jaskaransingh/opt/anaconda3/lib/python3.9/site-packages (from dgl) (1.21.5)\n",
      "Requirement already satisfied: tqdm in /Users/jaskaransingh/opt/anaconda3/lib/python3.9/site-packages (from dgl) (4.64.0)\n",
      "Requirement already satisfied: psutil>=5.8.0 in /Users/jaskaransingh/opt/anaconda3/lib/python3.9/site-packages (from dgl) (5.8.0)\n",
      "Requirement already satisfied: idna<4,>=2.5 in /Users/jaskaransingh/opt/anaconda3/lib/python3.9/site-packages (from requests>=2.19.0->dgl) (3.3)\n",
      "Requirement already satisfied: certifi>=2017.4.17 in /Users/jaskaransingh/opt/anaconda3/lib/python3.9/site-packages (from requests>=2.19.0->dgl) (2021.10.8)\n",
      "Requirement already satisfied: urllib3<1.27,>=1.21.1 in /Users/jaskaransingh/opt/anaconda3/lib/python3.9/site-packages (from requests>=2.19.0->dgl) (1.26.9)\n",
      "Requirement already satisfied: charset-normalizer~=2.0.0 in /Users/jaskaransingh/opt/anaconda3/lib/python3.9/site-packages (from requests>=2.19.0->dgl) (2.0.4)\n",
      "Installing collected packages: networkx, dgl\n",
      "  Attempting uninstall: networkx\n",
      "    Found existing installation: networkx 1.11\n",
      "    Uninstalling networkx-1.11:\n",
      "      Successfully uninstalled networkx-1.11\n",
      "\u001b[31mERROR: pip's dependency resolver does not currently take into account all the packages that are installed. This behaviour is the source of the following dependency conflicts.\n",
      "fa2l 0.2 requires networkx<2.0.0, but you have networkx 3.0 which is incompatible.\u001b[0m\n",
      "Successfully installed dgl-1.0.1 networkx-3.0\n"
     ]
    }
   ],
   "source": [
    "!pip install dgl"
   ]
  },
  {
   "cell_type": "code",
   "execution_count": 5,
   "metadata": {
    "id": "VJk5YkV4HLaO"
   },
   "outputs": [],
   "source": [
    "%matplotlib inline"
   ]
  },
  {
   "cell_type": "code",
   "execution_count": 12,
   "metadata": {
    "colab": {
     "base_uri": "https://localhost:8080/"
    },
    "id": "rYcr_VwIE_A8",
    "outputId": "8a13944b-32a1-466c-b538-8ee46625ced8"
   },
   "outputs": [],
   "source": [
    "\n",
    "import dgl\n",
    "import torch\n",
    "import networkx as nx\n",
    "import matplotlib\n",
    "import matplotlib.pyplot as plt\n",
    "matplotlib.use('Agg')\n",
    "\n",
    "\n",
    "def build_karate_club_graph():\n",
    "    g = dgl.DGLGraph()\n",
    "    # add 34 nodes into the graph; nodes are labeled from 0~33\n",
    "    g.add_nodes(34)\n",
    "    # all 78 edges as a list of tuples\n",
    "    edge_list = [(1, 0), (2, 0), (2, 1), (3, 0), (3, 1), (3, 2),\n",
    "                 (4, 0), (5, 0), (6, 0), (6, 4), (6, 5), (7, 0), (7, 1),\n",
    "                 (7, 2), (7, 3), (8, 0), (8, 2), (9, 2), (10, 0), (10, 4),\n",
    "                 (10, 5), (11, 0), (12, 0), (12, 3), (13, 0), (13, 1), (13, 2),\n",
    "                 (13, 3), (16, 5), (16, 6), (17, 0), (17, 1), (19, 0), (19, 1),\n",
    "                 (21, 0), (21, 1), (25, 23), (25, 24), (27, 2), (27, 23),\n",
    "                 (27, 24), (28, 2), (29, 23), (29, 26), (30, 1), (30, 8),\n",
    "                 (31, 0), (31, 24), (31, 25), (31, 28), (32, 2), (32, 8),\n",
    "                 (32, 14), (32, 15), (32, 18), (32, 20), (32, 22), (32, 23),\n",
    "                 (32, 29), (32, 30), (32, 31), (33, 8), (33, 9), (33, 13),\n",
    "                 (33, 14), (33, 15), (33, 18), (33, 19), (33, 20), (33, 22),\n",
    "                 (33, 23), (33, 26), (33, 27), (33, 28), (33, 29), (33, 30),\n",
    "                 (33, 31), (33, 32)]\n",
    "    # add edges two lists of nodes: src and dst\n",
    "    src, dst = tuple(zip(*edge_list))\n",
    "    g.add_edges(src, dst)\n",
    "    # edges are directional in DGL; make them bi-directional\n",
    "    g.add_edges(dst, src)\n",
    "\n",
    "    return g\n"
   ]
  },
  {
   "cell_type": "code",
   "execution_count": 13,
   "metadata": {
    "id": "lw2_HzEQE9La"
   },
   "outputs": [],
   "source": [
    "\n",
    "import torch\n",
    "import torch.nn as nn\n",
    "\n",
    "\n",
    "def gcn_message(edges):\n",
    "    \"\"\"\n",
    "    compute a batch of message called 'msg' using the source nodes' feature 'h'\n",
    "    \"\"\"\n",
    "    return {'msg': edges.src['h']}\n",
    "\n",
    "\n",
    "def gcn_reduce(nodes):\n",
    "    \"\"\"\n",
    "    compute the new 'h' features by summing received 'msg' in each node's mailbox.\n",
    "    \"\"\"\n",
    "    return {'h': torch.sum(nodes.mailbox['msg'], dim=1)}\n",
    "\n",
    "\n",
    "class GCNLayer(nn.Module):\n",
    "    \"\"\"\n",
    "    Define the GCNLayer module.\n",
    "    \"\"\"\n",
    "\n",
    "    def __init__(self, in_feats, out_feats):\n",
    "        super(GCNLayer, self).__init__()\n",
    "        self.linear = nn.Linear(in_feats, out_feats)\n",
    "\n",
    "    def forward(self, g, inputs):\n",
    "        # g is the graph and the inputs is the input node features\n",
    "        # first set the node features\n",
    "        g.ndata['h'] = inputs\n",
    "        # trigger message passing on all edges\n",
    "        g.send_and_recv(g.edges(), gcn_message, gcn_reduce)\n",
    "        # trigger aggregation at all nodes\n",
    "        g.send_and_recv(g.nodes(), gcn_message,gcn_reduce)\n",
    "        # get the result node features\n",
    "        h = g.ndata.pop('h')\n",
    "        # perform linear transformation\n",
    "        return self.linear(h)\n",
    "\n",
    "\n",
    "class GCN(nn.Module):\n",
    "    \"\"\"\n",
    "    Define a 2-layer GCN model.\n",
    "    \"\"\"\n",
    "    def __init__(self, in_feats, hidden_size, num_classes):\n",
    "        super(GCN, self).__init__()\n",
    "        self.gcn1 = GCNLayer(in_feats, hidden_size)\n",
    "        self.gcn2 = GCNLayer(hidden_size, num_classes)\n",
    "\n",
    "    def forward(self, g, inputs):\n",
    "        h = self.gcn1(g, inputs)\n",
    "        h = torch.relu(h)\n",
    "        h = self.gcn2(g, h)\n",
    "        return h"
   ]
  },
  {
   "cell_type": "code",
   "execution_count": 36,
   "metadata": {
    "colab": {
     "base_uri": "https://localhost:8080/",
     "height": 553
    },
    "id": "p9Z-rdGTEWLV",
    "outputId": "dd057176-3ece-46f4-c45d-521129e46fd8"
   },
   "outputs": [
    {
     "name": "stdout",
     "output_type": "stream",
     "text": [
      "GCN(\n",
      "  (gcn1): GCNLayer(\n",
      "    (linear): Linear(in_features=34, out_features=5, bias=True)\n",
      "  )\n",
      "  (gcn2): GCNLayer(\n",
      "    (linear): Linear(in_features=5, out_features=2, bias=True)\n",
      "  )\n",
      ")\n",
      "Epoch 0 | Loss: 1.0009\n",
      "Epoch 1 | Loss: 0.7500\n",
      "Epoch 2 | Loss: 0.5536\n",
      "Epoch 3 | Loss: 0.4020\n",
      "Epoch 4 | Loss: 0.3247\n",
      "Epoch 5 | Loss: 0.2439\n",
      "Epoch 6 | Loss: 0.1992\n",
      "Epoch 7 | Loss: 0.1615\n",
      "Epoch 8 | Loss: 0.1252\n",
      "Epoch 9 | Loss: 0.0932\n",
      "Epoch 10 | Loss: 0.0679\n",
      "Epoch 11 | Loss: 0.0484\n",
      "Epoch 12 | Loss: 0.0337\n",
      "Epoch 13 | Loss: 0.0233\n",
      "Epoch 14 | Loss: 0.0160\n",
      "Epoch 15 | Loss: 0.0109\n",
      "Epoch 16 | Loss: 0.0075\n",
      "Epoch 17 | Loss: 0.0052\n",
      "Epoch 18 | Loss: 0.0036\n",
      "Epoch 19 | Loss: 0.0026\n",
      "MultiDiGraph with 34 nodes and 156 edges\n"
     ]
    },
    {
     "data": {
      "text/plain": [
       "<Figure size 900x600 with 0 Axes>"
      ]
     },
     "metadata": {},
     "output_type": "display_data"
    }
   ],
   "source": [
    "# -*- coding: utf-8 -*-\n",
    "\n",
    "import torch\n",
    "import torch.nn.functional as F\n",
    "\n",
    "import networkx as nx\n",
    "import matplotlib.animation as animation\n",
    "import matplotlib.pyplot as plt\n",
    "\n",
    "# from model import GCN\n",
    "# from graph_builder import build_karate_club_graph\n",
    "\n",
    "import warnings\n",
    "warnings.filterwarnings('ignore')\n",
    "\n",
    "\n",
    "net = GCN(34, 5, 2)\n",
    "print(net)\n",
    "G = build_karate_club_graph()\n",
    "\n",
    "inputs = torch.eye(34)\n",
    "labeled_nodes = torch.tensor([0, 33])  # only the instructor and the president nodes are labeled\n",
    "labels = torch.tensor([0, 1])\n",
    "\n",
    "optimizer = torch.optim.Adam(net.parameters(), lr=0.01)\n",
    "all_logits = []\n",
    "\n",
    "for epoch in range(20):\n",
    "    logits = net(G, inputs)\n",
    "    all_logits.append(logits.detach())\n",
    "    logp = F.log_softmax(logits, 1)\n",
    "\n",
    "    # compute loss for labeled nodes\n",
    "    loss = F.nll_loss(logp[labeled_nodes], labels)\n",
    "\n",
    "    optimizer.zero_grad()\n",
    "    loss.backward()\n",
    "    optimizer.step()\n",
    "\n",
    "    print('Epoch %d | Loss: %.4f' % (epoch, loss.item()))\n",
    "\n",
    "\n",
    "def draw(i):\n",
    "    cls1color = '#00FFFF'\n",
    "    cls2color = '#FF00FF'\n",
    "    pos = {}\n",
    "    colors = []\n",
    "    for v in range(34):\n",
    "        pos[v] = all_logits[i][v].numpy()\n",
    "        cls = pos[v].argmax()\n",
    "        colors.append(cls1color if cls else cls2color)\n",
    "    # ax.cla()\n",
    "    # ax.axis('off')\n",
    "    # ax.set_title('Epoch: %d' % i)\n",
    "    nx.draw_networkx(nx_G.to_undirected(), pos, node_color=colors, with_labels=True, node_size=300)\n",
    "\n",
    "\n",
    "nx_G = G.to_networkx().to_undirected()\n",
    "print(G.to_networkx())\n",
    "# fig, ax = plt.subplots()\n",
    "ax = plt.figure(dpi=150)\n",
    "# fig.clf()\n",
    "# ax = fig.subplots()\n",
    "# draw(19)  # draw the prediction of the first epoch\n",
    "\n",
    "ani = animation.FuncAnimation(ax, draw, frames=len(all_logits), interval=200)\n",
    "plt.show()\n"
   ]
  },
  {
   "cell_type": "code",
   "execution_count": null,
   "metadata": {
    "id": "DCAJNZyNH2wC"
   },
   "outputs": [],
   "source": []
  },
  {
   "cell_type": "code",
   "execution_count": null,
   "metadata": {},
   "outputs": [],
   "source": []
  },
  {
   "cell_type": "code",
   "execution_count": 42,
   "metadata": {},
   "outputs": [
    {
     "name": "stdout",
     "output_type": "stream",
     "text": [
      "Collecting karateclub\n",
      "  Downloading karateclub-1.3.3.tar.gz (64 kB)\n",
      "\u001b[K     |████████████████████████████████| 64 kB 4.8 MB/s eta 0:00:011\n",
      "\u001b[?25hRequirement already satisfied: numpy<1.23.0 in /Users/jaskaransingh/opt/anaconda3/lib/python3.9/site-packages (from karateclub) (1.21.5)\n",
      "Collecting networkx<2.7\n",
      "  Downloading networkx-2.6.3-py3-none-any.whl (1.9 MB)\n",
      "\u001b[K     |████████████████████████████████| 1.9 MB 9.2 MB/s eta 0:00:01\n",
      "\u001b[?25hCollecting decorator==4.4.2\n",
      "  Downloading decorator-4.4.2-py2.py3-none-any.whl (9.2 kB)\n",
      "Requirement already satisfied: tqdm in /Users/jaskaransingh/opt/anaconda3/lib/python3.9/site-packages (from karateclub) (4.64.0)\n",
      "Collecting python-louvain\n",
      "  Downloading python-louvain-0.16.tar.gz (204 kB)\n",
      "\u001b[K     |████████████████████████████████| 204 kB 49.5 MB/s eta 0:00:01\n",
      "\u001b[?25hRequirement already satisfied: scikit-learn in /Users/jaskaransingh/opt/anaconda3/lib/python3.9/site-packages (from karateclub) (1.0.2)\n",
      "Requirement already satisfied: scipy in /Users/jaskaransingh/opt/anaconda3/lib/python3.9/site-packages (from karateclub) (1.7.3)\n",
      "Collecting pygsp\n",
      "  Downloading PyGSP-0.5.1-py2.py3-none-any.whl (1.8 MB)\n",
      "\u001b[K     |████████████████████████████████| 1.8 MB 22.0 MB/s eta 0:00:01\n",
      "\u001b[?25hRequirement already satisfied: gensim>=4.0.0 in /Users/jaskaransingh/opt/anaconda3/lib/python3.9/site-packages (from karateclub) (4.1.2)\n",
      "Collecting pandas<=1.3.5\n",
      "  Downloading pandas-1.3.5-cp39-cp39-macosx_10_9_x86_64.whl (11.3 MB)\n",
      "\u001b[K     |████████████████████████████████| 11.3 MB 94.3 MB/s eta 0:00:01\n",
      "\u001b[?25hRequirement already satisfied: six in /Users/jaskaransingh/opt/anaconda3/lib/python3.9/site-packages (from karateclub) (1.16.0)\n",
      "Collecting python-Levenshtein\n",
      "  Downloading python_Levenshtein-0.20.9-py3-none-any.whl (9.4 kB)\n",
      "Requirement already satisfied: smart-open>=1.8.1 in /Users/jaskaransingh/opt/anaconda3/lib/python3.9/site-packages (from gensim>=4.0.0->karateclub) (5.1.0)\n",
      "Requirement already satisfied: pytz>=2017.3 in /Users/jaskaransingh/opt/anaconda3/lib/python3.9/site-packages (from pandas<=1.3.5->karateclub) (2021.3)\n",
      "Requirement already satisfied: python-dateutil>=2.7.3 in /Users/jaskaransingh/opt/anaconda3/lib/python3.9/site-packages (from pandas<=1.3.5->karateclub) (2.8.2)\n",
      "Collecting Levenshtein==0.20.9\n",
      "  Downloading Levenshtein-0.20.9-cp39-cp39-macosx_10_9_x86_64.whl (131 kB)\n",
      "\u001b[K     |████████████████████████████████| 131 kB 79.8 MB/s eta 0:00:01\n",
      "\u001b[?25hCollecting rapidfuzz<3.0.0,>=2.3.0\n",
      "  Downloading rapidfuzz-2.13.7-cp39-cp39-macosx_10_9_x86_64.whl (1.8 MB)\n",
      "\u001b[K     |████████████████████████████████| 1.8 MB 164.5 MB/s eta 0:00:01\n",
      "\u001b[?25hRequirement already satisfied: threadpoolctl>=2.0.0 in /Users/jaskaransingh/opt/anaconda3/lib/python3.9/site-packages (from scikit-learn->karateclub) (2.2.0)\n",
      "Requirement already satisfied: joblib>=0.11 in /Users/jaskaransingh/opt/anaconda3/lib/python3.9/site-packages (from scikit-learn->karateclub) (1.1.0)\n",
      "Building wheels for collected packages: karateclub, python-louvain\n",
      "  Building wheel for karateclub (setup.py) ... \u001b[?25ldone\n",
      "\u001b[?25h  Created wheel for karateclub: filename=karateclub-1.3.3-py3-none-any.whl size=102008 sha256=395f47b66c6d5103532597c47dfb91ad24defc87ea9913cf384bc7cffa1f2371\n",
      "  Stored in directory: /Users/jaskaransingh/Library/Caches/pip/wheels/31/25/29/cbde36d190e23d77710f9c31ca1cb4cd5a65e934cf67e0a078\n",
      "  Building wheel for python-louvain (setup.py) ... \u001b[?25ldone\n",
      "\u001b[?25h  Created wheel for python-louvain: filename=python_louvain-0.16-py3-none-any.whl size=9408 sha256=325f63f33e9cc8de5e05967e17fc4dba758eacbd935d9255ae45ec897384e2c9\n",
      "  Stored in directory: /Users/jaskaransingh/Library/Caches/pip/wheels/4d/7c/b6/79b198e4ec43f915fbdf967953d48b89a18893b12aa9df0ae2\n",
      "Successfully built karateclub python-louvain\n",
      "Installing collected packages: rapidfuzz, networkx, Levenshtein, python-louvain, python-Levenshtein, pygsp, pandas, decorator, karateclub\n",
      "  Attempting uninstall: networkx\n",
      "    Found existing installation: networkx 3.0\n",
      "    Uninstalling networkx-3.0:\n",
      "      Successfully uninstalled networkx-3.0\n",
      "  Attempting uninstall: pandas\n",
      "    Found existing installation: pandas 1.4.2\n",
      "    Uninstalling pandas-1.4.2:\n",
      "      Successfully uninstalled pandas-1.4.2\n",
      "  Attempting uninstall: decorator\n",
      "    Found existing installation: decorator 5.1.1\n",
      "    Uninstalling decorator-5.1.1:\n",
      "      Successfully uninstalled decorator-5.1.1\n",
      "\u001b[31mERROR: pip's dependency resolver does not currently take into account all the packages that are installed. This behaviour is the source of the following dependency conflicts.\n",
      "fa2l 0.2 requires networkx<2.0.0, but you have networkx 2.6.3 which is incompatible.\u001b[0m\n",
      "Successfully installed Levenshtein-0.20.9 decorator-4.4.2 karateclub-1.3.3 networkx-2.6.3 pandas-1.3.5 pygsp-0.5.1 python-Levenshtein-0.20.9 python-louvain-0.16 rapidfuzz-2.13.7\n"
     ]
    }
   ],
   "source": [
    "!pip install karateclub\n"
   ]
  },
  {
   "cell_type": "code",
   "execution_count": 44,
   "metadata": {},
   "outputs": [],
   "source": [
    "import networkx as nx"
   ]
  },
  {
   "cell_type": "code",
   "execution_count": 43,
   "metadata": {
    "collapsed": true
   },
   "outputs": [
    {
     "name": "stdout",
     "output_type": "stream",
     "text": [
      "{0: [0], 1: [0], 2: [0], 3: [0], 4: [0], 5: [0], 6: [0], 7: [0], 8: [0], 9: [0], 10: [0], 11: [0], 12: [0], 13: [0], 14: [0], 15: [0], 16: [0], 17: [0], 18: [0], 19: [0], 20: [0], 21: [0], 22: [0], 23: [0], 24: [0], 25: [0], 26: [0], 27: [0], 28: [0], 29: [0], 30: [0], 31: [0], 32: [0], 33: [0], 34: [0], 35: [0], 36: [0], 37: [0], 38: [0], 39: [0], 40: [0], 41: [0], 42: [0], 43: [0], 44: [0], 45: [0], 46: [0], 47: [0], 48: [0], 49: [0], 50: [0], 51: [0], 52: [0], 53: [0], 54: [0], 55: [0], 56: [0], 57: [0], 58: [0], 59: [0], 60: [0], 61: [0], 62: [0], 63: [0], 64: [0], 65: [0], 66: [0], 67: [0], 68: [0], 69: [0], 70: [0], 71: [0], 72: [0], 73: [0], 74: [0], 75: [0], 76: [0], 77: [0], 78: [5], 79: [5], 80: [5], 81: [5], 82: [5], 83: [5], 84: [5], 85: [5], 86: [5], 87: [5], 88: [5], 89: [5], 90: [5], 91: [5], 92: [5], 93: [5], 94: [5], 95: [5], 96: [5], 97: [5], 98: [5], 99: [5], 100: [5], 101: [5], 102: [5], 103: [5], 104: [5], 105: [5], 106: [5], 107: [5], 108: [5], 109: [5], 110: [5], 111: [5], 112: [5], 113: [5], 114: [5], 115: [5], 116: [5], 117: [5], 118: [5], 119: [5], 120: [5], 121: [5], 122: [5], 123: [5], 124: [5], 125: [5], 126: [5], 127: [5], 128: [5], 129: [5], 130: [5], 131: [5], 132: [5], 133: [5], 134: [12], 135: [12], 136: [12], 137: [12], 138: [12], 139: [12], 140: [12], 141: [12], 142: [12], 143: [12], 144: [12], 145: [12], 146: [12], 147: [12], 148: [12], 149: [12], 150: [12], 151: [12], 152: [12], 153: [12], 154: [12], 155: [12], 156: [12], 157: [12], 158: [12], 159: [12], 160: [12], 161: [12], 162: [12], 163: [12], 164: [12], 165: [12], 166: [12], 167: [12], 168: [12], 169: [12], 170: [12], 171: [12], 172: [12], 173: [12], 174: [12], 175: [12], 176: [12], 177: [12], 178: [12], 179: [12], 180: [12], 181: [12], 182: [12], 183: [12], 184: [12], 185: [12], 186: [12], 187: [12], 188: [12], 189: [12], 190: [12], 191: [6], 192: [6], 193: [6], 194: [6], 195: [6], 196: [6], 197: [6], 198: [6], 199: [6], 200: [6], 201: [6], 202: [6], 203: [6], 204: [6], 205: [6], 206: [6], 207: [6], 208: [6], 209: [6], 210: [6], 211: [6], 212: [6], 213: [6], 214: [6], 215: [6], 216: [6], 217: [6], 218: [6], 219: [6], 220: [6], 221: [6], 222: [6], 223: [6], 224: [6], 225: [6], 226: [6], 227: [6], 228: [6], 229: [6], 230: [6], 231: [6], 232: [6], 233: [6], 234: [6], 235: [6], 236: [6], 237: [6], 238: [6], 239: [6], 240: [6], 241: [6], 242: [6], 243: [6], 244: [6], 245: [6], 246: [6], 247: [6], 248: [6], 249: [6], 250: [6], 251: [10], 252: [10], 253: [10], 254: [10], 255: [10], 256: [10], 257: [10], 258: [10], 259: [10], 260: [10], 261: [10], 262: [10], 263: [10], 264: [10], 265: [10], 266: [10], 267: [10], 268: [10], 269: [10], 270: [10], 271: [10], 272: [10], 273: [10], 274: [10], 275: [10], 276: [10], 277: [10], 278: [10], 279: [10], 280: [10], 281: [10], 282: [10], 283: [10], 284: [10], 285: [10], 286: [10], 287: [10], 288: [10], 289: [10], 290: [10], 291: [10], 292: [10], 293: [10], 294: [10], 295: [10], 296: [10], 297: [10], 298: [10], 299: [10], 300: [10], 301: [10], 302: [10], 303: [10], 304: [10], 305: [10], 306: [10], 307: [10], 308: [10], 309: [10], 310: [10], 311: [10], 312: [10], 313: [10], 314: [10], 315: [10], 316: [10], 317: [10], 318: [10], 319: [10], 320: [10], 321: [10], 322: [10], 323: [10], 324: [10], 325: [10], 326: [10], 327: [10], 328: [10], 329: [10], 330: [10], 331: [10], 332: [10], 333: [10], 334: [10], 335: [3], 336: [3], 337: [3], 338: [3], 339: [3], 340: [3], 341: [3], 342: [3], 343: [3], 344: [3], 345: [3], 346: [3], 347: [3], 348: [3], 349: [3], 350: [3], 351: [3], 352: [3], 353: [3], 354: [3], 355: [3], 356: [3], 357: [3], 358: [3], 359: [3], 360: [3], 361: [3], 362: [3], 363: [3], 364: [3], 365: [3], 366: [3], 367: [3], 368: [3], 369: [3], 370: [3], 371: [3], 372: [3], 373: [3], 374: [3], 375: [3], 376: [3], 377: [3], 378: [3], 379: [3], 380: [3], 381: [3], 382: [3], 383: [3], 384: [3], 385: [3], 386: [3], 387: [3], 388: [3], 389: [3], 390: [3], 391: [3], 392: [3], 393: [3], 394: [3], 395: [3], 396: [3], 397: [3], 398: [3], 399: [3], 400: [3], 401: [3], 402: [3], 403: [3], 404: [3], 405: [3], 406: [3], 407: [3], 408: [3], 409: [3], 410: [3], 411: [3], 412: [3], 413: [3], 414: [3], 415: [3], 416: [3], 417: [3], 418: [3], 419: [3], 420: [3], 421: [3], 422: [3], 423: [3], 424: [3], 425: [3], 426: [3], 427: [3], 428: [3], 429: [3], 430: [3], 431: [3], 432: [3], 433: [3], 434: [3], 435: [8], 436: [8], 437: [8], 438: [8], 439: [8], 440: [8], 441: [8], 442: [8], 443: [8], 444: [8], 445: [8], 446: [8], 447: [8], 448: [8], 449: [8], 450: [8], 451: [8], 452: [8], 453: [8], 454: [8], 455: [8], 456: [8], 457: [8], 458: [8], 459: [8], 460: [8], 461: [8], 462: [8], 463: [8], 464: [8], 465: [8], 466: [8], 467: [8], 468: [8], 469: [8], 470: [8], 471: [8], 472: [8], 473: [8], 474: [8], 475: [8], 476: [8], 477: [8], 478: [8], 479: [8], 480: [8], 481: [8], 482: [8], 483: [8], 484: [8], 485: [8], 486: [8], 487: [8], 488: [8], 489: [8], 490: [8], 491: [8], 492: [8], 493: [8], 494: [8], 495: [8], 496: [8], 497: [8], 498: [8], 499: [8], 500: [8], 501: [8], 502: [8], 503: [8], 504: [8], 505: [8], 506: [8], 507: [8], 508: [8], 509: [8], 510: [8], 511: [8], 512: [8], 513: [8], 514: [8], 515: [8], 516: [8], 517: [1], 518: [1], 519: [1], 520: [1], 521: [1], 522: [1], 523: [1], 524: [1], 525: [1], 526: [1], 527: [1], 528: [1], 529: [1], 530: [1], 531: [1], 532: [1], 533: [1], 534: [1], 535: [1], 536: [1], 537: [1], 538: [1], 539: [1], 540: [1], 541: [1], 542: [1], 543: [1], 544: [1], 545: [1], 546: [1], 547: [1], 548: [1], 549: [1], 550: [1], 551: [1], 552: [1], 553: [1], 554: [1], 555: [1], 556: [1], 557: [1], 558: [1], 559: [1], 560: [1], 561: [1], 562: [1], 563: [1], 564: [1], 565: [1], 566: [1], 567: [1], 568: [1], 569: [1], 570: [1], 571: [1], 572: [1], 573: [1], 574: [1], 575: [1], 576: [1], 577: [1], 578: [1], 579: [1], 580: [1], 581: [1], 582: [1], 583: [1], 584: [1], 585: [1], 586: [1], 587: [1], 588: [1], 589: [1], 590: [1], 591: [1], 592: [1], 593: [1], 594: [1], 595: [1], 596: [1], 597: [1], 598: [1], 599: [1], 600: [1], 601: [1], 602: [1], 603: [1], 604: [7], 605: [7], 606: [7], 607: [7], 608: [7], 609: [7], 610: [7], 611: [7], 612: [7], 613: [7], 614: [7], 615: [7], 616: [7], 617: [7], 618: [7], 619: [7], 620: [7], 621: [7], 622: [7], 623: [7], 624: [7], 625: [7], 626: [7], 627: [7], 628: [7], 629: [7], 630: [7], 631: [7], 632: [7], 633: [7], 634: [7], 635: [7], 636: [7], 637: [7], 638: [7], 639: [7], 640: [7], 641: [7], 642: [7], 643: [7], 644: [7], 645: [7], 646: [7], 647: [7], 648: [7], 649: [7], 650: [7], 651: [7], 652: [7], 653: [7], 654: [7], 655: [7], 656: [7], 657: [7], 658: [7], 659: [7], 660: [7], 661: [7], 662: [7], 663: [7], 664: [7], 665: [7], 666: [7], 667: [7], 668: [7], 669: [7], 670: [7], 671: [7], 672: [7], 673: [7], 674: [7], 675: [7], 676: [7], 677: [7], 678: [7], 679: [7], 680: [7], 681: [7], 682: [7], 683: [7], 684: [7], 685: [7], 686: [7], 687: [7], 688: [7], 689: [7], 690: [7], 691: [7], 692: [7], 693: [7], 694: [7], 695: [7], 696: [7], 697: [7], 698: [7], 699: [7], 700: [7], 701: [7], 702: [7], 703: [7], 704: [7], 705: [9], 706: [9], 707: [9], 708: [9], 709: [9], 710: [9], 711: [9], 712: [9], 713: [9], 714: [9], 715: [9], 716: [9], 717: [9], 718: [9], 719: [9], 720: [9], 721: [9], 722: [9], 723: [9], 724: [9], 725: [9], 726: [9], 727: [9], 728: [9], 729: [9], 730: [9], 731: [9], 732: [9], 733: [9], 734: [9], 735: [9], 736: [9], 737: [9], 738: [9], 739: [9], 740: [9], 741: [9], 742: [9], 743: [9], 744: [9], 745: [9], 746: [9], 747: [9], 748: [9], 749: [9], 750: [9], 751: [9], 752: [9], 753: [9], 754: [9], 755: [9], 756: [9], 757: [9], 758: [9], 759: [9], 760: [9], 761: [11], 762: [11], 763: [11], 764: [11], 765: [11], 766: [11], 767: [11], 768: [11], 769: [11], 770: [11], 771: [11], 772: [11], 773: [11], 774: [11], 775: [11], 776: [11], 777: [11], 778: [11], 779: [11], 780: [11], 781: [11], 782: [11], 783: [11], 784: [11], 785: [11], 786: [11], 787: [11], 788: [11], 789: [11], 790: [11], 791: [11], 792: [11], 793: [11], 794: [11], 795: [11], 796: [11], 797: [11], 798: [11], 799: [11], 800: [11], 801: [11], 802: [11], 803: [11], 804: [11], 805: [11], 806: [11], 807: [11], 808: [11], 809: [11], 810: [11], 811: [11], 812: [11], 813: [11], 814: [11], 815: [11], 816: [11], 817: [11], 818: [11], 819: [11], 820: [11], 821: [11], 822: [11], 823: [11], 824: [11], 825: [11], 826: [11], 827: [11], 828: [11], 829: [11], 830: [11], 831: [11], 832: [11], 833: [11], 834: [11], 835: [11], 836: [11], 837: [11], 838: [11], 839: [11], 840: [11], 841: [11], 842: [11], 843: [11], 844: [11], 845: [11], 846: [11], 847: [11], 848: [11], 849: [11], 850: [11], 851: [2], 852: [2], 853: [2], 854: [2], 855: [2], 856: [2], 857: [2], 858: [2], 859: [2], 860: [2], 861: [2], 862: [2], 863: [2], 864: [2], 865: [2], 866: [2], 867: [2], 868: [2], 869: [2], 870: [2], 871: [2], 872: [2], 873: [2], 874: [2], 875: [2], 876: [2], 877: [2], 878: [2], 879: [2], 880: [2], 881: [2], 882: [2], 883: [2], 884: [2], 885: [2], 886: [2], 887: [2], 888: [2], 889: [2], 890: [2], 891: [2], 892: [2], 893: [2], 894: [2], 895: [2], 896: [2], 897: [2], 898: [2], 899: [2], 900: [2], 901: [2], 902: [2], 903: [2], 904: [2], 905: [2], 906: [2], 907: [2], 908: [2], 909: [2], 910: [2], 911: [2], 912: [2], 913: [2], 914: [2], 915: [2], 916: [2], 917: [2], 918: [2], 919: [2], 920: [4], 921: [4], 922: [4], 923: [4], 924: [4], 925: [4], 926: [4], 927: [4], 928: [4], 929: [4], 930: [4], 931: [4], 932: [4], 933: [4], 934: [4], 935: [4], 936: [4], 937: [4], 938: [4], 939: [4], 940: [4], 941: [4], 942: [4], 943: [4], 944: [4], 945: [4], 946: [4], 947: [4], 948: [4], 949: [4], 950: [4], 951: [4], 952: [4], 953: [4], 954: [4], 955: [4], 956: [4], 957: [4], 958: [4], 959: [4], 960: [4], 961: [4], 962: [4], 963: [4], 964: [4], 965: [4], 966: [4], 967: [4], 968: [4], 969: [4], 970: [4], 971: [4], 972: [4], 973: [4], 974: [4], 975: [4], 976: [4], 977: [4], 978: [4], 979: [4], 980: [4], 981: [4], 982: [4], 983: [4], 984: [4], 985: [4], 986: [4], 987: [4], 988: [4], 989: [0], 990: [0], 991: [0], 992: [0], 993: [0], 994: [0], 995: [0], 996: [0], 997: [0], 998: [0], 999: [0]}\n"
     ]
    }
   ],
   "source": [
    "\n",
    "from karateclub import EgoNetSplitter\n",
    "\n",
    "g = nx. newman_watts_strogatz_graph(1000, 20, 0.05)\n",
    "splitter = EgoNetSplitter (1.0)\n",
    "splitter.fit(g)\n",
    "print(splitter.get_memberships())"
   ]
  },
  {
   "cell_type": "code",
   "execution_count": null,
   "metadata": {},
   "outputs": [],
   "source": []
  }
 ],
 "metadata": {
  "colab": {
   "provenance": []
  },
  "kernelspec": {
   "display_name": "Python 3 (ipykernel)",
   "language": "python",
   "name": "python3"
  },
  "language_info": {
   "codemirror_mode": {
    "name": "ipython",
    "version": 3
   },
   "file_extension": ".py",
   "mimetype": "text/x-python",
   "name": "python",
   "nbconvert_exporter": "python",
   "pygments_lexer": "ipython3",
   "version": "3.9.12"
  }
 },
 "nbformat": 4,
 "nbformat_minor": 1
}
